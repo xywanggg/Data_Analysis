{
  "cells": [
    {
      "metadata": {},
      "cell_type": "markdown",
      "source": "# missing data"
    },
    {
      "metadata": {
        "trusted": true
      },
      "cell_type": "code",
      "source": "import pandas as pd\nimport numpy as np",
      "execution_count": 4,
      "outputs": []
    },
    {
      "metadata": {
        "trusted": true
      },
      "cell_type": "code",
      "source": "data=pd.read_csv('./train.csv')",
      "execution_count": 5,
      "outputs": []
    },
    {
      "metadata": {
        "trusted": true
      },
      "cell_type": "code",
      "source": "data.head()",
      "execution_count": 6,
      "outputs": [
        {
          "output_type": "execute_result",
          "execution_count": 6,
          "data": {
            "text/html": "<div>\n<style scoped>\n    .dataframe tbody tr th:only-of-type {\n        vertical-align: middle;\n    }\n\n    .dataframe tbody tr th {\n        vertical-align: top;\n    }\n\n    .dataframe thead th {\n        text-align: right;\n    }\n</style>\n<table border=\"1\" class=\"dataframe\">\n  <thead>\n    <tr style=\"text-align: right;\">\n      <th></th>\n      <th>battery_power</th>\n      <th>blue</th>\n      <th>clock_speed</th>\n      <th>dual_sim</th>\n      <th>fc</th>\n      <th>four_g</th>\n      <th>int_memory</th>\n      <th>m_dep</th>\n      <th>mobile_wt</th>\n      <th>n_cores</th>\n      <th>...</th>\n      <th>px_height</th>\n      <th>px_width</th>\n      <th>ram</th>\n      <th>sc_h</th>\n      <th>sc_w</th>\n      <th>talk_time</th>\n      <th>three_g</th>\n      <th>touch_screen</th>\n      <th>wifi</th>\n      <th>price_range</th>\n    </tr>\n  </thead>\n  <tbody>\n    <tr>\n      <th>0</th>\n      <td>842</td>\n      <td>0</td>\n      <td>2.2</td>\n      <td>0</td>\n      <td>1</td>\n      <td>0</td>\n      <td>7</td>\n      <td>0.6</td>\n      <td>188</td>\n      <td>2</td>\n      <td>...</td>\n      <td>20</td>\n      <td>756</td>\n      <td>2549</td>\n      <td>9</td>\n      <td>7</td>\n      <td>19</td>\n      <td>0</td>\n      <td>0</td>\n      <td>1</td>\n      <td>1</td>\n    </tr>\n    <tr>\n      <th>1</th>\n      <td>1021</td>\n      <td>1</td>\n      <td>0.5</td>\n      <td>1</td>\n      <td>0</td>\n      <td>1</td>\n      <td>53</td>\n      <td>0.7</td>\n      <td>136</td>\n      <td>3</td>\n      <td>...</td>\n      <td>905</td>\n      <td>1988</td>\n      <td>2631</td>\n      <td>17</td>\n      <td>3</td>\n      <td>7</td>\n      <td>1</td>\n      <td>1</td>\n      <td>0</td>\n      <td>2</td>\n    </tr>\n    <tr>\n      <th>2</th>\n      <td>563</td>\n      <td>1</td>\n      <td>0.5</td>\n      <td>1</td>\n      <td>2</td>\n      <td>1</td>\n      <td>41</td>\n      <td>0.9</td>\n      <td>145</td>\n      <td>5</td>\n      <td>...</td>\n      <td>1263</td>\n      <td>1716</td>\n      <td>2603</td>\n      <td>11</td>\n      <td>2</td>\n      <td>9</td>\n      <td>1</td>\n      <td>1</td>\n      <td>0</td>\n      <td>2</td>\n    </tr>\n    <tr>\n      <th>3</th>\n      <td>615</td>\n      <td>1</td>\n      <td>2.5</td>\n      <td>0</td>\n      <td>0</td>\n      <td>0</td>\n      <td>10</td>\n      <td>0.8</td>\n      <td>131</td>\n      <td>6</td>\n      <td>...</td>\n      <td>1216</td>\n      <td>1786</td>\n      <td>2769</td>\n      <td>16</td>\n      <td>8</td>\n      <td>11</td>\n      <td>1</td>\n      <td>0</td>\n      <td>0</td>\n      <td>2</td>\n    </tr>\n    <tr>\n      <th>4</th>\n      <td>1821</td>\n      <td>1</td>\n      <td>1.2</td>\n      <td>0</td>\n      <td>13</td>\n      <td>1</td>\n      <td>44</td>\n      <td>0.6</td>\n      <td>141</td>\n      <td>2</td>\n      <td>...</td>\n      <td>1208</td>\n      <td>1212</td>\n      <td>1411</td>\n      <td>8</td>\n      <td>2</td>\n      <td>15</td>\n      <td>1</td>\n      <td>1</td>\n      <td>0</td>\n      <td>1</td>\n    </tr>\n  </tbody>\n</table>\n<p>5 rows × 21 columns</p>\n</div>",
            "text/plain": "   battery_power  blue  clock_speed  dual_sim  fc  four_g  int_memory  m_dep  \\\n0            842     0          2.2         0   1       0           7    0.6   \n1           1021     1          0.5         1   0       1          53    0.7   \n2            563     1          0.5         1   2       1          41    0.9   \n3            615     1          2.5         0   0       0          10    0.8   \n4           1821     1          1.2         0  13       1          44    0.6   \n\n   mobile_wt  n_cores     ...       px_height  px_width   ram  sc_h  sc_w  \\\n0        188        2     ...              20       756  2549     9     7   \n1        136        3     ...             905      1988  2631    17     3   \n2        145        5     ...            1263      1716  2603    11     2   \n3        131        6     ...            1216      1786  2769    16     8   \n4        141        2     ...            1208      1212  1411     8     2   \n\n   talk_time  three_g  touch_screen  wifi  price_range  \n0         19        0             0     1            1  \n1          7        1             1     0            2  \n2          9        1             1     0            2  \n3         11        1             0     0            2  \n4         15        1             1     0            1  \n\n[5 rows x 21 columns]"
          },
          "metadata": {}
        }
      ]
    },
    {
      "metadata": {
        "trusted": true
      },
      "cell_type": "code",
      "source": "data.shape",
      "execution_count": 7,
      "outputs": [
        {
          "output_type": "execute_result",
          "execution_count": 7,
          "data": {
            "text/plain": "(2000, 21)"
          },
          "metadata": {}
        }
      ]
    },
    {
      "metadata": {
        "trusted": true,
        "scrolled": true
      },
      "cell_type": "code",
      "source": "data.columns",
      "execution_count": 8,
      "outputs": [
        {
          "output_type": "execute_result",
          "execution_count": 8,
          "data": {
            "text/plain": "Index(['battery_power', 'blue', 'clock_speed', 'dual_sim', 'fc', 'four_g',\n       'int_memory', 'm_dep', 'mobile_wt', 'n_cores', 'pc', 'px_height',\n       'px_width', 'ram', 'sc_h', 'sc_w', 'talk_time', 'three_g',\n       'touch_screen', 'wifi', 'price_range'],\n      dtype='object')"
          },
          "metadata": {}
        }
      ]
    },
    {
      "metadata": {
        "trusted": true
      },
      "cell_type": "code",
      "source": "#data=data.drop('id',axis=1)",
      "execution_count": 10,
      "outputs": []
    },
    {
      "metadata": {
        "trusted": true
      },
      "cell_type": "code",
      "source": "data.describe()",
      "execution_count": 9,
      "outputs": [
        {
          "output_type": "execute_result",
          "execution_count": 9,
          "data": {
            "text/html": "<div>\n<style scoped>\n    .dataframe tbody tr th:only-of-type {\n        vertical-align: middle;\n    }\n\n    .dataframe tbody tr th {\n        vertical-align: top;\n    }\n\n    .dataframe thead th {\n        text-align: right;\n    }\n</style>\n<table border=\"1\" class=\"dataframe\">\n  <thead>\n    <tr style=\"text-align: right;\">\n      <th></th>\n      <th>battery_power</th>\n      <th>blue</th>\n      <th>clock_speed</th>\n      <th>dual_sim</th>\n      <th>fc</th>\n      <th>four_g</th>\n      <th>int_memory</th>\n      <th>m_dep</th>\n      <th>mobile_wt</th>\n      <th>n_cores</th>\n      <th>...</th>\n      <th>px_height</th>\n      <th>px_width</th>\n      <th>ram</th>\n      <th>sc_h</th>\n      <th>sc_w</th>\n      <th>talk_time</th>\n      <th>three_g</th>\n      <th>touch_screen</th>\n      <th>wifi</th>\n      <th>price_range</th>\n    </tr>\n  </thead>\n  <tbody>\n    <tr>\n      <th>count</th>\n      <td>2000.000000</td>\n      <td>2000.0000</td>\n      <td>2000.000000</td>\n      <td>2000.000000</td>\n      <td>2000.000000</td>\n      <td>2000.000000</td>\n      <td>2000.000000</td>\n      <td>2000.000000</td>\n      <td>2000.000000</td>\n      <td>2000.000000</td>\n      <td>...</td>\n      <td>2000.000000</td>\n      <td>2000.000000</td>\n      <td>2000.000000</td>\n      <td>2000.000000</td>\n      <td>2000.000000</td>\n      <td>2000.000000</td>\n      <td>2000.000000</td>\n      <td>2000.000000</td>\n      <td>2000.000000</td>\n      <td>2000.000000</td>\n    </tr>\n    <tr>\n      <th>mean</th>\n      <td>1238.518500</td>\n      <td>0.4950</td>\n      <td>1.522250</td>\n      <td>0.509500</td>\n      <td>4.309500</td>\n      <td>0.521500</td>\n      <td>32.046500</td>\n      <td>0.501750</td>\n      <td>140.249000</td>\n      <td>4.520500</td>\n      <td>...</td>\n      <td>645.108000</td>\n      <td>1251.515500</td>\n      <td>2124.213000</td>\n      <td>12.306500</td>\n      <td>5.767000</td>\n      <td>11.011000</td>\n      <td>0.761500</td>\n      <td>0.503000</td>\n      <td>0.507000</td>\n      <td>1.500000</td>\n    </tr>\n    <tr>\n      <th>std</th>\n      <td>439.418206</td>\n      <td>0.5001</td>\n      <td>0.816004</td>\n      <td>0.500035</td>\n      <td>4.341444</td>\n      <td>0.499662</td>\n      <td>18.145715</td>\n      <td>0.288416</td>\n      <td>35.399655</td>\n      <td>2.287837</td>\n      <td>...</td>\n      <td>443.780811</td>\n      <td>432.199447</td>\n      <td>1084.732044</td>\n      <td>4.213245</td>\n      <td>4.356398</td>\n      <td>5.463955</td>\n      <td>0.426273</td>\n      <td>0.500116</td>\n      <td>0.500076</td>\n      <td>1.118314</td>\n    </tr>\n    <tr>\n      <th>min</th>\n      <td>501.000000</td>\n      <td>0.0000</td>\n      <td>0.500000</td>\n      <td>0.000000</td>\n      <td>0.000000</td>\n      <td>0.000000</td>\n      <td>2.000000</td>\n      <td>0.100000</td>\n      <td>80.000000</td>\n      <td>1.000000</td>\n      <td>...</td>\n      <td>0.000000</td>\n      <td>500.000000</td>\n      <td>256.000000</td>\n      <td>5.000000</td>\n      <td>0.000000</td>\n      <td>2.000000</td>\n      <td>0.000000</td>\n      <td>0.000000</td>\n      <td>0.000000</td>\n      <td>0.000000</td>\n    </tr>\n    <tr>\n      <th>25%</th>\n      <td>851.750000</td>\n      <td>0.0000</td>\n      <td>0.700000</td>\n      <td>0.000000</td>\n      <td>1.000000</td>\n      <td>0.000000</td>\n      <td>16.000000</td>\n      <td>0.200000</td>\n      <td>109.000000</td>\n      <td>3.000000</td>\n      <td>...</td>\n      <td>282.750000</td>\n      <td>874.750000</td>\n      <td>1207.500000</td>\n      <td>9.000000</td>\n      <td>2.000000</td>\n      <td>6.000000</td>\n      <td>1.000000</td>\n      <td>0.000000</td>\n      <td>0.000000</td>\n      <td>0.750000</td>\n    </tr>\n    <tr>\n      <th>50%</th>\n      <td>1226.000000</td>\n      <td>0.0000</td>\n      <td>1.500000</td>\n      <td>1.000000</td>\n      <td>3.000000</td>\n      <td>1.000000</td>\n      <td>32.000000</td>\n      <td>0.500000</td>\n      <td>141.000000</td>\n      <td>4.000000</td>\n      <td>...</td>\n      <td>564.000000</td>\n      <td>1247.000000</td>\n      <td>2146.500000</td>\n      <td>12.000000</td>\n      <td>5.000000</td>\n      <td>11.000000</td>\n      <td>1.000000</td>\n      <td>1.000000</td>\n      <td>1.000000</td>\n      <td>1.500000</td>\n    </tr>\n    <tr>\n      <th>75%</th>\n      <td>1615.250000</td>\n      <td>1.0000</td>\n      <td>2.200000</td>\n      <td>1.000000</td>\n      <td>7.000000</td>\n      <td>1.000000</td>\n      <td>48.000000</td>\n      <td>0.800000</td>\n      <td>170.000000</td>\n      <td>7.000000</td>\n      <td>...</td>\n      <td>947.250000</td>\n      <td>1633.000000</td>\n      <td>3064.500000</td>\n      <td>16.000000</td>\n      <td>9.000000</td>\n      <td>16.000000</td>\n      <td>1.000000</td>\n      <td>1.000000</td>\n      <td>1.000000</td>\n      <td>2.250000</td>\n    </tr>\n    <tr>\n      <th>max</th>\n      <td>1998.000000</td>\n      <td>1.0000</td>\n      <td>3.000000</td>\n      <td>1.000000</td>\n      <td>19.000000</td>\n      <td>1.000000</td>\n      <td>64.000000</td>\n      <td>1.000000</td>\n      <td>200.000000</td>\n      <td>8.000000</td>\n      <td>...</td>\n      <td>1960.000000</td>\n      <td>1998.000000</td>\n      <td>3998.000000</td>\n      <td>19.000000</td>\n      <td>18.000000</td>\n      <td>20.000000</td>\n      <td>1.000000</td>\n      <td>1.000000</td>\n      <td>1.000000</td>\n      <td>3.000000</td>\n    </tr>\n  </tbody>\n</table>\n<p>8 rows × 21 columns</p>\n</div>",
            "text/plain": "       battery_power       blue  clock_speed     dual_sim           fc  \\\ncount    2000.000000  2000.0000  2000.000000  2000.000000  2000.000000   \nmean     1238.518500     0.4950     1.522250     0.509500     4.309500   \nstd       439.418206     0.5001     0.816004     0.500035     4.341444   \nmin       501.000000     0.0000     0.500000     0.000000     0.000000   \n25%       851.750000     0.0000     0.700000     0.000000     1.000000   \n50%      1226.000000     0.0000     1.500000     1.000000     3.000000   \n75%      1615.250000     1.0000     2.200000     1.000000     7.000000   \nmax      1998.000000     1.0000     3.000000     1.000000    19.000000   \n\n            four_g   int_memory        m_dep    mobile_wt      n_cores  \\\ncount  2000.000000  2000.000000  2000.000000  2000.000000  2000.000000   \nmean      0.521500    32.046500     0.501750   140.249000     4.520500   \nstd       0.499662    18.145715     0.288416    35.399655     2.287837   \nmin       0.000000     2.000000     0.100000    80.000000     1.000000   \n25%       0.000000    16.000000     0.200000   109.000000     3.000000   \n50%       1.000000    32.000000     0.500000   141.000000     4.000000   \n75%       1.000000    48.000000     0.800000   170.000000     7.000000   \nmax       1.000000    64.000000     1.000000   200.000000     8.000000   \n\n          ...         px_height     px_width          ram         sc_h  \\\ncount     ...       2000.000000  2000.000000  2000.000000  2000.000000   \nmean      ...        645.108000  1251.515500  2124.213000    12.306500   \nstd       ...        443.780811   432.199447  1084.732044     4.213245   \nmin       ...          0.000000   500.000000   256.000000     5.000000   \n25%       ...        282.750000   874.750000  1207.500000     9.000000   \n50%       ...        564.000000  1247.000000  2146.500000    12.000000   \n75%       ...        947.250000  1633.000000  3064.500000    16.000000   \nmax       ...       1960.000000  1998.000000  3998.000000    19.000000   \n\n              sc_w    talk_time      three_g  touch_screen         wifi  \\\ncount  2000.000000  2000.000000  2000.000000   2000.000000  2000.000000   \nmean      5.767000    11.011000     0.761500      0.503000     0.507000   \nstd       4.356398     5.463955     0.426273      0.500116     0.500076   \nmin       0.000000     2.000000     0.000000      0.000000     0.000000   \n25%       2.000000     6.000000     1.000000      0.000000     0.000000   \n50%       5.000000    11.000000     1.000000      1.000000     1.000000   \n75%       9.000000    16.000000     1.000000      1.000000     1.000000   \nmax      18.000000    20.000000     1.000000      1.000000     1.000000   \n\n       price_range  \ncount  2000.000000  \nmean      1.500000  \nstd       1.118314  \nmin       0.000000  \n25%       0.750000  \n50%       1.500000  \n75%       2.250000  \nmax       3.000000  \n\n[8 rows x 21 columns]"
          },
          "metadata": {}
        }
      ]
    },
    {
      "metadata": {
        "trusted": true
      },
      "cell_type": "code",
      "source": "data=data.rename(columns={'blue':'bluetooth',\n                          'fc':'fc_megapixel',\n                          'pc':'pc_megepixel',\n                         'm_dep':'m_depth'})",
      "execution_count": 11,
      "outputs": []
    },
    {
      "metadata": {
        "trusted": true
      },
      "cell_type": "code",
      "source": "dupes=data.duplicated()\ndupes.head()",
      "execution_count": 12,
      "outputs": [
        {
          "output_type": "execute_result",
          "execution_count": 12,
          "data": {
            "text/plain": "0    False\n1    False\n2    False\n3    False\n4    False\ndtype: bool"
          },
          "metadata": {}
        }
      ]
    },
    {
      "metadata": {
        "trusted": true
      },
      "cell_type": "code",
      "source": "sum(dupes)",
      "execution_count": 13,
      "outputs": [
        {
          "output_type": "execute_result",
          "execution_count": 13,
          "data": {
            "text/plain": "0"
          },
          "metadata": {}
        }
      ]
    },
    {
      "metadata": {
        "trusted": true
      },
      "cell_type": "code",
      "source": "#data=data.drop_duplicates()",
      "execution_count": 14,
      "outputs": []
    },
    {
      "metadata": {
        "trusted": true
      },
      "cell_type": "code",
      "source": "data.isnull().sum()",
      "execution_count": 17,
      "outputs": [
        {
          "output_type": "execute_result",
          "execution_count": 17,
          "data": {
            "text/plain": "battery_power    0\nbluetooth        0\nclock_speed      0\ndual_sim         0\nfc_megapixel     0\nfour_g           0\nint_memory       0\nm_depth          0\nmobile_wt        0\nn_cores          0\npc_megepixel     0\npx_height        0\npx_width         0\nram              0\nsc_h             0\nsc_w             0\ntalk_time        0\nthree_g          0\ntouch_screen     0\nwifi             0\nprice_range      0\ndtype: int64"
          },
          "metadata": {}
        }
      ]
    },
    {
      "metadata": {
        "trusted": true
      },
      "cell_type": "code",
      "source": "#data['fc_megapixel']=data['fc_megapixel'].fillba(0)",
      "execution_count": null,
      "outputs": []
    },
    {
      "metadata": {
        "trusted": true
      },
      "cell_type": "code",
      "source": "#data['mobile_wt']=data['mobile_wt'].fillna(data['mobile_wt'].median())",
      "execution_count": null,
      "outputs": []
    },
    {
      "metadata": {
        "trusted": true
      },
      "cell_type": "code",
      "source": "# data['ram']=data['ram'].fillna(method='backfill')",
      "execution_count": null,
      "outputs": []
    },
    {
      "metadata": {
        "trusted": true
      },
      "cell_type": "code",
      "source": "len(data['ram'].unique())",
      "execution_count": 18,
      "outputs": [
        {
          "output_type": "execute_result",
          "execution_count": 18,
          "data": {
            "text/plain": "1562"
          },
          "metadata": {}
        }
      ]
    },
    {
      "metadata": {
        "trusted": true
      },
      "cell_type": "code",
      "source": "data=data.dropna() #drop all null data",
      "execution_count": 19,
      "outputs": []
    },
    {
      "metadata": {
        "trusted": true
      },
      "cell_type": "code",
      "source": "data.shape",
      "execution_count": 21,
      "outputs": [
        {
          "output_type": "execute_result",
          "execution_count": 21,
          "data": {
            "text/plain": "(2000, 21)"
          },
          "metadata": {}
        }
      ]
    },
    {
      "metadata": {
        "trusted": true
      },
      "cell_type": "code",
      "source": "data.to_csv('mobile_data.csv',index=False)",
      "execution_count": 22,
      "outputs": []
    },
    {
      "metadata": {
        "trusted": true,
        "scrolled": false
      },
      "cell_type": "code",
      "source": "!ls",
      "execution_count": 23,
      "outputs": [
        {
          "output_type": "stream",
          "text": "Data cleaning and preprocessing.ipynb  mobile_data.csv\ttrain.csv\r\nFilling missing value.ipynb\t       README.md\r\n",
          "name": "stdout"
        }
      ]
    },
    {
      "metadata": {},
      "cell_type": "markdown",
      "source": "# outlier"
    },
    {
      "metadata": {
        "trusted": true
      },
      "cell_type": "code",
      "source": "data.info()",
      "execution_count": 24,
      "outputs": [
        {
          "output_type": "stream",
          "text": "<class 'pandas.core.frame.DataFrame'>\nInt64Index: 2000 entries, 0 to 1999\nData columns (total 21 columns):\nbattery_power    2000 non-null int64\nbluetooth        2000 non-null int64\nclock_speed      2000 non-null float64\ndual_sim         2000 non-null int64\nfc_megapixel     2000 non-null int64\nfour_g           2000 non-null int64\nint_memory       2000 non-null int64\nm_depth          2000 non-null float64\nmobile_wt        2000 non-null int64\nn_cores          2000 non-null int64\npc_megepixel     2000 non-null int64\npx_height        2000 non-null int64\npx_width         2000 non-null int64\nram              2000 non-null int64\nsc_h             2000 non-null int64\nsc_w             2000 non-null int64\ntalk_time        2000 non-null int64\nthree_g          2000 non-null int64\ntouch_screen     2000 non-null int64\nwifi             2000 non-null int64\nprice_range      2000 non-null int64\ndtypes: float64(2), int64(19)\nmemory usage: 343.8 KB\n",
          "name": "stdout"
        }
      ]
    },
    {
      "metadata": {
        "trusted": true
      },
      "cell_type": "code",
      "source": "numeric_data=data.drop(['bluetooth','dual_sim','four_g','three_g',\n                        'touch_screen','wifi','price_range'],axis=1)\nnumeric_data.head()",
      "execution_count": 25,
      "outputs": [
        {
          "output_type": "execute_result",
          "execution_count": 25,
          "data": {
            "text/html": "<div>\n<style scoped>\n    .dataframe tbody tr th:only-of-type {\n        vertical-align: middle;\n    }\n\n    .dataframe tbody tr th {\n        vertical-align: top;\n    }\n\n    .dataframe thead th {\n        text-align: right;\n    }\n</style>\n<table border=\"1\" class=\"dataframe\">\n  <thead>\n    <tr style=\"text-align: right;\">\n      <th></th>\n      <th>battery_power</th>\n      <th>clock_speed</th>\n      <th>fc_megapixel</th>\n      <th>int_memory</th>\n      <th>m_depth</th>\n      <th>mobile_wt</th>\n      <th>n_cores</th>\n      <th>pc_megepixel</th>\n      <th>px_height</th>\n      <th>px_width</th>\n      <th>ram</th>\n      <th>sc_h</th>\n      <th>sc_w</th>\n      <th>talk_time</th>\n    </tr>\n  </thead>\n  <tbody>\n    <tr>\n      <th>0</th>\n      <td>842</td>\n      <td>2.2</td>\n      <td>1</td>\n      <td>7</td>\n      <td>0.6</td>\n      <td>188</td>\n      <td>2</td>\n      <td>2</td>\n      <td>20</td>\n      <td>756</td>\n      <td>2549</td>\n      <td>9</td>\n      <td>7</td>\n      <td>19</td>\n    </tr>\n    <tr>\n      <th>1</th>\n      <td>1021</td>\n      <td>0.5</td>\n      <td>0</td>\n      <td>53</td>\n      <td>0.7</td>\n      <td>136</td>\n      <td>3</td>\n      <td>6</td>\n      <td>905</td>\n      <td>1988</td>\n      <td>2631</td>\n      <td>17</td>\n      <td>3</td>\n      <td>7</td>\n    </tr>\n    <tr>\n      <th>2</th>\n      <td>563</td>\n      <td>0.5</td>\n      <td>2</td>\n      <td>41</td>\n      <td>0.9</td>\n      <td>145</td>\n      <td>5</td>\n      <td>6</td>\n      <td>1263</td>\n      <td>1716</td>\n      <td>2603</td>\n      <td>11</td>\n      <td>2</td>\n      <td>9</td>\n    </tr>\n    <tr>\n      <th>3</th>\n      <td>615</td>\n      <td>2.5</td>\n      <td>0</td>\n      <td>10</td>\n      <td>0.8</td>\n      <td>131</td>\n      <td>6</td>\n      <td>9</td>\n      <td>1216</td>\n      <td>1786</td>\n      <td>2769</td>\n      <td>16</td>\n      <td>8</td>\n      <td>11</td>\n    </tr>\n    <tr>\n      <th>4</th>\n      <td>1821</td>\n      <td>1.2</td>\n      <td>13</td>\n      <td>44</td>\n      <td>0.6</td>\n      <td>141</td>\n      <td>2</td>\n      <td>14</td>\n      <td>1208</td>\n      <td>1212</td>\n      <td>1411</td>\n      <td>8</td>\n      <td>2</td>\n      <td>15</td>\n    </tr>\n  </tbody>\n</table>\n</div>",
            "text/plain": "   battery_power  clock_speed  fc_megapixel  int_memory  m_depth  mobile_wt  \\\n0            842          2.2             1           7      0.6        188   \n1           1021          0.5             0          53      0.7        136   \n2            563          0.5             2          41      0.9        145   \n3            615          2.5             0          10      0.8        131   \n4           1821          1.2            13          44      0.6        141   \n\n   n_cores  pc_megepixel  px_height  px_width   ram  sc_h  sc_w  talk_time  \n0        2             2         20       756  2549     9     7         19  \n1        3             6        905      1988  2631    17     3          7  \n2        5             6       1263      1716  2603    11     2          9  \n3        6             9       1216      1786  2769    16     8         11  \n4        2            14       1208      1212  1411     8     2         15  "
          },
          "metadata": {}
        }
      ]
    },
    {
      "metadata": {
        "trusted": true
      },
      "cell_type": "code",
      "source": "categorical_data=data[['bluetooth','dual_sim','four_g','three_g',\n                        'touch_screen','wifi','price_range']]\ncategorical_data.head()",
      "execution_count": 26,
      "outputs": [
        {
          "output_type": "execute_result",
          "execution_count": 26,
          "data": {
            "text/html": "<div>\n<style scoped>\n    .dataframe tbody tr th:only-of-type {\n        vertical-align: middle;\n    }\n\n    .dataframe tbody tr th {\n        vertical-align: top;\n    }\n\n    .dataframe thead th {\n        text-align: right;\n    }\n</style>\n<table border=\"1\" class=\"dataframe\">\n  <thead>\n    <tr style=\"text-align: right;\">\n      <th></th>\n      <th>bluetooth</th>\n      <th>dual_sim</th>\n      <th>four_g</th>\n      <th>three_g</th>\n      <th>touch_screen</th>\n      <th>wifi</th>\n      <th>price_range</th>\n    </tr>\n  </thead>\n  <tbody>\n    <tr>\n      <th>0</th>\n      <td>0</td>\n      <td>0</td>\n      <td>0</td>\n      <td>0</td>\n      <td>0</td>\n      <td>1</td>\n      <td>1</td>\n    </tr>\n    <tr>\n      <th>1</th>\n      <td>1</td>\n      <td>1</td>\n      <td>1</td>\n      <td>1</td>\n      <td>1</td>\n      <td>0</td>\n      <td>2</td>\n    </tr>\n    <tr>\n      <th>2</th>\n      <td>1</td>\n      <td>1</td>\n      <td>1</td>\n      <td>1</td>\n      <td>1</td>\n      <td>0</td>\n      <td>2</td>\n    </tr>\n    <tr>\n      <th>3</th>\n      <td>1</td>\n      <td>0</td>\n      <td>0</td>\n      <td>1</td>\n      <td>0</td>\n      <td>0</td>\n      <td>2</td>\n    </tr>\n    <tr>\n      <th>4</th>\n      <td>1</td>\n      <td>0</td>\n      <td>1</td>\n      <td>1</td>\n      <td>1</td>\n      <td>0</td>\n      <td>1</td>\n    </tr>\n  </tbody>\n</table>\n</div>",
            "text/plain": "   bluetooth  dual_sim  four_g  three_g  touch_screen  wifi  price_range\n0          0         0       0        0             0     1            1\n1          1         1       1        1             1     0            2\n2          1         1       1        1             1     0            2\n3          1         0       0        1             0     0            2\n4          1         0       1        1             1     0            1"
          },
          "metadata": {}
        }
      ]
    },
    {
      "metadata": {
        "trusted": true
      },
      "cell_type": "code",
      "source": "from matplotlib import pyplot as plt\nimport seaborn as sns",
      "execution_count": 27,
      "outputs": []
    },
    {
      "metadata": {
        "trusted": true
      },
      "cell_type": "code",
      "source": "fig, ax=plt.subplots(figsize=(8,6))\nsns.boxplot(numeric_data['ram'],orient='v')",
      "execution_count": 30,
      "outputs": [
        {
          "output_type": "execute_result",
          "execution_count": 30,
          "data": {
            "text/plain": "<matplotlib.axes._subplots.AxesSubplot at 0x7fbaf7cd52e8>"
          },
          "metadata": {}
        },
        {
          "output_type": "display_data",
          "data": {
            "image/png": "[encoded data removed]",
            "text/plain": "<Figure size 576x432 with 1 Axes>"
          },
          "metadata": {
            "needs_background": "light"
          }
        }
      ]
    },
    {
      "metadata": {
        "trusted": true
      },
      "cell_type": "code",
      "source": "fig, ax=plt.subplots(figsize=(10,8))\nbp=sns.boxplot(data=numeric_data)\nbp.set_xticklabels(bp.get_xticklabels(),rotation=90)",
      "execution_count": 31,
      "outputs": [
        {
          "output_type": "execute_result",
          "execution_count": 31,
          "data": {
            "text/plain": "[Text(0, 0, 'battery_power'),\n Text(0, 0, 'clock_speed'),\n Text(0, 0, 'fc_megapixel'),\n Text(0, 0, 'int_memory'),\n Text(0, 0, 'm_depth'),\n Text(0, 0, 'mobile_wt'),\n Text(0, 0, 'n_cores'),\n Text(0, 0, 'pc_megepixel'),\n Text(0, 0, 'px_height'),\n Text(0, 0, 'px_width'),\n Text(0, 0, 'ram'),\n Text(0, 0, 'sc_h'),\n Text(0, 0, 'sc_w'),\n Text(0, 0, 'talk_time')]"
          },
          "metadata": {}
        },
        {
          "output_type": "display_data",
          "data": {
            "image/png": "[encoded data removed]",
            "text/plain": "<Figure size 720x576 with 1 Axes>"
          },
          "metadata": {
            "needs_background": "light"
          }
        }
      ]
    },
    {
      "metadata": {
        "trusted": true
      },
      "cell_type": "code",
      "source": "from sklearn.preprocessing import StandardScaler\nscaler=StandardScaler()\nscaled_array=scaler.fit_transform(numeric_data)",
      "execution_count": 34,
      "outputs": [
        {
          "output_type": "stream",
          "text": "/home/nbuser/anaconda3_501/lib/python3.6/site-packages/sklearn/preprocessing/data.py:645: DataConversionWarning: Data with input dtype int64, float64 were all converted to float64 by StandardScaler.\n  return self.partial_fit(X, y)\n/home/nbuser/anaconda3_501/lib/python3.6/site-packages/sklearn/base.py:464: DataConversionWarning: Data with input dtype int64, float64 were all converted to float64 by StandardScaler.\n  return self.fit(X, **fit_params).transform(X)\n",
          "name": "stderr"
        }
      ]
    },
    {
      "metadata": {
        "trusted": true
      },
      "cell_type": "code",
      "source": "scaled_data=pd.DataFrame(scaled_array,columns=numeric_data.columns)\nscaled_data.head()",
      "execution_count": 35,
      "outputs": [
        {
          "output_type": "execute_result",
          "execution_count": 35,
          "data": {
            "text/html": "<div>\n<style scoped>\n    .dataframe tbody tr th:only-of-type {\n        vertical-align: middle;\n    }\n\n    .dataframe tbody tr th {\n        vertical-align: top;\n    }\n\n    .dataframe thead th {\n        text-align: right;\n    }\n</style>\n<table border=\"1\" class=\"dataframe\">\n  <thead>\n    <tr style=\"text-align: right;\">\n      <th></th>\n      <th>battery_power</th>\n      <th>clock_speed</th>\n      <th>fc_megapixel</th>\n      <th>int_memory</th>\n      <th>m_depth</th>\n      <th>mobile_wt</th>\n      <th>n_cores</th>\n      <th>pc_megepixel</th>\n      <th>px_height</th>\n      <th>px_width</th>\n      <th>ram</th>\n      <th>sc_h</th>\n      <th>sc_w</th>\n      <th>talk_time</th>\n    </tr>\n  </thead>\n  <tbody>\n    <tr>\n      <th>0</th>\n      <td>-0.902597</td>\n      <td>0.830779</td>\n      <td>-0.762495</td>\n      <td>-1.380644</td>\n      <td>0.340740</td>\n      <td>1.349249</td>\n      <td>-1.101971</td>\n      <td>-1.305750</td>\n      <td>-1.408949</td>\n      <td>-1.146784</td>\n      <td>0.391703</td>\n      <td>-0.784983</td>\n      <td>0.283103</td>\n      <td>1.462493</td>\n    </tr>\n    <tr>\n      <th>1</th>\n      <td>-0.495139</td>\n      <td>-1.253064</td>\n      <td>-0.992890</td>\n      <td>1.155024</td>\n      <td>0.687548</td>\n      <td>-0.120059</td>\n      <td>-0.664768</td>\n      <td>-0.645989</td>\n      <td>0.585778</td>\n      <td>1.704465</td>\n      <td>0.467317</td>\n      <td>1.114266</td>\n      <td>-0.635317</td>\n      <td>-0.734267</td>\n    </tr>\n    <tr>\n      <th>2</th>\n      <td>-1.537686</td>\n      <td>-1.253064</td>\n      <td>-0.532099</td>\n      <td>0.493546</td>\n      <td>1.381165</td>\n      <td>0.134244</td>\n      <td>0.209639</td>\n      <td>-0.645989</td>\n      <td>1.392684</td>\n      <td>1.074968</td>\n      <td>0.441498</td>\n      <td>-0.310171</td>\n      <td>-0.864922</td>\n      <td>-0.368140</td>\n    </tr>\n    <tr>\n      <th>3</th>\n      <td>-1.419319</td>\n      <td>1.198517</td>\n      <td>-0.992890</td>\n      <td>-1.215274</td>\n      <td>1.034357</td>\n      <td>-0.261339</td>\n      <td>0.646842</td>\n      <td>-0.151168</td>\n      <td>1.286750</td>\n      <td>1.236971</td>\n      <td>0.594569</td>\n      <td>0.876859</td>\n      <td>0.512708</td>\n      <td>-0.002014</td>\n    </tr>\n    <tr>\n      <th>4</th>\n      <td>1.325906</td>\n      <td>-0.395011</td>\n      <td>2.002254</td>\n      <td>0.658915</td>\n      <td>0.340740</td>\n      <td>0.021220</td>\n      <td>-1.101971</td>\n      <td>0.673534</td>\n      <td>1.268718</td>\n      <td>-0.091452</td>\n      <td>-0.657666</td>\n      <td>-1.022389</td>\n      <td>-0.864922</td>\n      <td>0.730240</td>\n    </tr>\n  </tbody>\n</table>\n</div>",
            "text/plain": "   battery_power  clock_speed  fc_megapixel  int_memory   m_depth  mobile_wt  \\\n0      -0.902597     0.830779     -0.762495   -1.380644  0.340740   1.349249   \n1      -0.495139    -1.253064     -0.992890    1.155024  0.687548  -0.120059   \n2      -1.537686    -1.253064     -0.532099    0.493546  1.381165   0.134244   \n3      -1.419319     1.198517     -0.992890   -1.215274  1.034357  -0.261339   \n4       1.325906    -0.395011      2.002254    0.658915  0.340740   0.021220   \n\n    n_cores  pc_megepixel  px_height  px_width       ram      sc_h      sc_w  \\\n0 -1.101971     -1.305750  -1.408949 -1.146784  0.391703 -0.784983  0.283103   \n1 -0.664768     -0.645989   0.585778  1.704465  0.467317  1.114266 -0.635317   \n2  0.209639     -0.645989   1.392684  1.074968  0.441498 -0.310171 -0.864922   \n3  0.646842     -0.151168   1.286750  1.236971  0.594569  0.876859  0.512708   \n4 -1.101971      0.673534   1.268718 -0.091452 -0.657666 -1.022389 -0.864922   \n\n   talk_time  \n0   1.462493  \n1  -0.734267  \n2  -0.368140  \n3  -0.002014  \n4   0.730240  "
          },
          "metadata": {}
        }
      ]
    },
    {
      "metadata": {
        "trusted": true
      },
      "cell_type": "code",
      "source": "scaled_data.describe()",
      "execution_count": 36,
      "outputs": [
        {
          "output_type": "execute_result",
          "execution_count": 36,
          "data": {
            "text/html": "<div>\n<style scoped>\n    .dataframe tbody tr th:only-of-type {\n        vertical-align: middle;\n    }\n\n    .dataframe tbody tr th {\n        vertical-align: top;\n    }\n\n    .dataframe thead th {\n        text-align: right;\n    }\n</style>\n<table border=\"1\" class=\"dataframe\">\n  <thead>\n    <tr style=\"text-align: right;\">\n      <th></th>\n      <th>battery_power</th>\n      <th>clock_speed</th>\n      <th>fc_megapixel</th>\n      <th>int_memory</th>\n      <th>m_depth</th>\n      <th>mobile_wt</th>\n      <th>n_cores</th>\n      <th>pc_megepixel</th>\n      <th>px_height</th>\n      <th>px_width</th>\n      <th>ram</th>\n      <th>sc_h</th>\n      <th>sc_w</th>\n      <th>talk_time</th>\n    </tr>\n  </thead>\n  <tbody>\n    <tr>\n      <th>count</th>\n      <td>2.000000e+03</td>\n      <td>2.000000e+03</td>\n      <td>2.000000e+03</td>\n      <td>2.000000e+03</td>\n      <td>2.000000e+03</td>\n      <td>2.000000e+03</td>\n      <td>2.000000e+03</td>\n      <td>2.000000e+03</td>\n      <td>2.000000e+03</td>\n      <td>2.000000e+03</td>\n      <td>2.000000e+03</td>\n      <td>2.000000e+03</td>\n      <td>2.000000e+03</td>\n      <td>2.000000e+03</td>\n    </tr>\n    <tr>\n      <th>mean</th>\n      <td>2.128298e-16</td>\n      <td>-2.172151e-16</td>\n      <td>9.230117e-17</td>\n      <td>-8.754109e-17</td>\n      <td>-1.045830e-16</td>\n      <td>1.804112e-16</td>\n      <td>-4.690692e-17</td>\n      <td>1.669775e-16</td>\n      <td>1.287304e-16</td>\n      <td>5.595524e-17</td>\n      <td>-1.582068e-16</td>\n      <td>3.719247e-17</td>\n      <td>-4.085621e-17</td>\n      <td>1.052491e-16</td>\n    </tr>\n    <tr>\n      <th>std</th>\n      <td>1.000250e+00</td>\n      <td>1.000250e+00</td>\n      <td>1.000250e+00</td>\n      <td>1.000250e+00</td>\n      <td>1.000250e+00</td>\n      <td>1.000250e+00</td>\n      <td>1.000250e+00</td>\n      <td>1.000250e+00</td>\n      <td>1.000250e+00</td>\n      <td>1.000250e+00</td>\n      <td>1.000250e+00</td>\n      <td>1.000250e+00</td>\n      <td>1.000250e+00</td>\n      <td>1.000250e+00</td>\n    </tr>\n    <tr>\n      <th>min</th>\n      <td>-1.678817e+00</td>\n      <td>-1.253064e+00</td>\n      <td>-9.928904e-01</td>\n      <td>-1.656260e+00</td>\n      <td>-1.393304e+00</td>\n      <td>-1.702391e+00</td>\n      <td>-1.539175e+00</td>\n      <td>-1.635631e+00</td>\n      <td>-1.454027e+00</td>\n      <td>-1.739251e+00</td>\n      <td>-1.722711e+00</td>\n      <td>-1.734608e+00</td>\n      <td>-1.324131e+00</td>\n      <td>-1.649584e+00</td>\n    </tr>\n    <tr>\n      <th>25%</th>\n      <td>-8.804033e-01</td>\n      <td>-1.007906e+00</td>\n      <td>-7.624947e-01</td>\n      <td>-8.845346e-01</td>\n      <td>-1.046495e+00</td>\n      <td>-8.829695e-01</td>\n      <td>-6.647678e-01</td>\n      <td>-8.109291e-01</td>\n      <td>-8.167289e-01</td>\n      <td>-8.719579e-01</td>\n      <td>-8.453168e-01</td>\n      <td>-7.849833e-01</td>\n      <td>-8.649215e-01</td>\n      <td>-9.173306e-01</td>\n    </tr>\n    <tr>\n      <th>50%</th>\n      <td>-2.849593e-02</td>\n      <td>-2.727384e-02</td>\n      <td>-3.017032e-01</td>\n      <td>-2.563229e-03</td>\n      <td>-6.069151e-03</td>\n      <td>2.122020e-02</td>\n      <td>-2.275644e-01</td>\n      <td>1.377252e-02</td>\n      <td>-1.828116e-01</td>\n      <td>-1.045034e-02</td>\n      <td>2.055123e-02</td>\n      <td>-7.276497e-02</td>\n      <td>-1.761069e-01</td>\n      <td>-2.013697e-03</td>\n    </tr>\n    <tr>\n      <th>75%</th>\n      <td>8.575560e-01</td>\n      <td>8.307794e-01</td>\n      <td>6.198797e-01</td>\n      <td>8.794082e-01</td>\n      <td>1.034357e+00</td>\n      <td>8.406421e-01</td>\n      <td>1.084046e+00</td>\n      <td>8.384742e-01</td>\n      <td>6.810064e-01</td>\n      <td>8.828792e-01</td>\n      <td>8.670548e-01</td>\n      <td>8.768595e-01</td>\n      <td>7.423125e-01</td>\n      <td>9.133032e-01</td>\n    </tr>\n    <tr>\n      <th>max</th>\n      <td>1.728812e+00</td>\n      <td>1.811412e+00</td>\n      <td>3.384628e+00</td>\n      <td>1.761380e+00</td>\n      <td>1.727974e+00</td>\n      <td>1.688320e+00</td>\n      <td>1.521249e+00</td>\n      <td>1.663176e+00</td>\n      <td>2.963672e+00</td>\n      <td>1.727608e+00</td>\n      <td>1.727851e+00</td>\n      <td>1.589078e+00</td>\n      <td>2.808756e+00</td>\n      <td>1.645557e+00</td>\n    </tr>\n  </tbody>\n</table>\n</div>",
            "text/plain": "       battery_power   clock_speed  fc_megapixel    int_memory       m_depth  \\\ncount   2.000000e+03  2.000000e+03  2.000000e+03  2.000000e+03  2.000000e+03   \nmean    2.128298e-16 -2.172151e-16  9.230117e-17 -8.754109e-17 -1.045830e-16   \nstd     1.000250e+00  1.000250e+00  1.000250e+00  1.000250e+00  1.000250e+00   \nmin    -1.678817e+00 -1.253064e+00 -9.928904e-01 -1.656260e+00 -1.393304e+00   \n25%    -8.804033e-01 -1.007906e+00 -7.624947e-01 -8.845346e-01 -1.046495e+00   \n50%    -2.849593e-02 -2.727384e-02 -3.017032e-01 -2.563229e-03 -6.069151e-03   \n75%     8.575560e-01  8.307794e-01  6.198797e-01  8.794082e-01  1.034357e+00   \nmax     1.728812e+00  1.811412e+00  3.384628e+00  1.761380e+00  1.727974e+00   \n\n          mobile_wt       n_cores  pc_megepixel     px_height      px_width  \\\ncount  2.000000e+03  2.000000e+03  2.000000e+03  2.000000e+03  2.000000e+03   \nmean   1.804112e-16 -4.690692e-17  1.669775e-16  1.287304e-16  5.595524e-17   \nstd    1.000250e+00  1.000250e+00  1.000250e+00  1.000250e+00  1.000250e+00   \nmin   -1.702391e+00 -1.539175e+00 -1.635631e+00 -1.454027e+00 -1.739251e+00   \n25%   -8.829695e-01 -6.647678e-01 -8.109291e-01 -8.167289e-01 -8.719579e-01   \n50%    2.122020e-02 -2.275644e-01  1.377252e-02 -1.828116e-01 -1.045034e-02   \n75%    8.406421e-01  1.084046e+00  8.384742e-01  6.810064e-01  8.828792e-01   \nmax    1.688320e+00  1.521249e+00  1.663176e+00  2.963672e+00  1.727608e+00   \n\n                ram          sc_h          sc_w     talk_time  \ncount  2.000000e+03  2.000000e+03  2.000000e+03  2.000000e+03  \nmean  -1.582068e-16  3.719247e-17 -4.085621e-17  1.052491e-16  \nstd    1.000250e+00  1.000250e+00  1.000250e+00  1.000250e+00  \nmin   -1.722711e+00 -1.734608e+00 -1.324131e+00 -1.649584e+00  \n25%   -8.453168e-01 -7.849833e-01 -8.649215e-01 -9.173306e-01  \n50%    2.055123e-02 -7.276497e-02 -1.761069e-01 -2.013697e-03  \n75%    8.670548e-01  8.768595e-01  7.423125e-01  9.133032e-01  \nmax    1.727851e+00  1.589078e+00  2.808756e+00  1.645557e+00  "
          },
          "metadata": {}
        }
      ]
    },
    {
      "metadata": {
        "trusted": true
      },
      "cell_type": "code",
      "source": "fig, ax=plt.subplots(figsize=(10,8))\nbp=sns.boxplot(data=scaled_data)\nbp.set_xticklabels(bp.get_xticklabels(),rotation=90)",
      "execution_count": 37,
      "outputs": [
        {
          "output_type": "execute_result",
          "execution_count": 37,
          "data": {
            "text/plain": "[Text(0, 0, 'battery_power'),\n Text(0, 0, 'clock_speed'),\n Text(0, 0, 'fc_megapixel'),\n Text(0, 0, 'int_memory'),\n Text(0, 0, 'm_depth'),\n Text(0, 0, 'mobile_wt'),\n Text(0, 0, 'n_cores'),\n Text(0, 0, 'pc_megepixel'),\n Text(0, 0, 'px_height'),\n Text(0, 0, 'px_width'),\n Text(0, 0, 'ram'),\n Text(0, 0, 'sc_h'),\n Text(0, 0, 'sc_w'),\n Text(0, 0, 'talk_time')]"
          },
          "metadata": {}
        },
        {
          "output_type": "display_data",
          "data": {
            "image/png": "[encoded data removed]",
            "text/plain": "<Figure size 720x576 with 1 Axes>"
          },
          "metadata": {
            "needs_background": "light"
          }
        }
      ]
    },
    {
      "metadata": {
        "trusted": true
      },
      "cell_type": "code",
      "source": "Q1=numeric_data.quantile(0.25)\nQ3=numeric_data.quantile(0.75)\nIQR=Q3-Q1\nprint(IQR)",
      "execution_count": 40,
      "outputs": [
        {
          "output_type": "stream",
          "text": "battery_power     763.50\nclock_speed         1.50\nfc_megapixel        6.00\nint_memory         32.00\nm_depth             0.60\nmobile_wt          61.00\nn_cores             4.00\npc_megepixel       10.00\npx_height         664.50\npx_width          758.25\nram              1857.00\nsc_h                7.00\nsc_w                7.00\ntalk_time          10.00\ndtype: float64\n",
          "name": "stdout"
        }
      ]
    },
    {
      "metadata": {
        "trusted": true
      },
      "cell_type": "code",
      "source": "outliers_removed_data=numeric_data[~((numeric_data<(Q1-1.5*IQR))\\\n                                    |(numeric_data>(Q3+1.5*IQR))).any(axis=1)]\noutliers_removed_data.shape",
      "execution_count": 41,
      "outputs": [
        {
          "output_type": "execute_result",
          "execution_count": 41,
          "data": {
            "text/plain": "(1980, 14)"
          },
          "metadata": {}
        }
      ]
    },
    {
      "metadata": {
        "trusted": true
      },
      "cell_type": "code",
      "source": "fig, ax=plt.subplots(figsize=(10,8))\nbp=sns.boxplot(data=outliers_removed_data)\nbp.set_xticklabels(bp.get_xticklabels(),rotation=90)",
      "execution_count": 42,
      "outputs": [
        {
          "output_type": "execute_result",
          "execution_count": 42,
          "data": {
            "text/plain": "[Text(0, 0, 'battery_power'),\n Text(0, 0, 'clock_speed'),\n Text(0, 0, 'fc_megapixel'),\n Text(0, 0, 'int_memory'),\n Text(0, 0, 'm_depth'),\n Text(0, 0, 'mobile_wt'),\n Text(0, 0, 'n_cores'),\n Text(0, 0, 'pc_megepixel'),\n Text(0, 0, 'px_height'),\n Text(0, 0, 'px_width'),\n Text(0, 0, 'ram'),\n Text(0, 0, 'sc_h'),\n Text(0, 0, 'sc_w'),\n Text(0, 0, 'talk_time')]"
          },
          "metadata": {}
        },
        {
          "output_type": "display_data",
          "data": {
            "image/png": "[encoded data removed]",
            "text/plain": "<Figure size 720x576 with 1 Axes>"
          },
          "metadata": {
            "needs_background": "light"
          }
        }
      ]
    },
    {
      "metadata": {},
      "cell_type": "markdown",
      "source": "# machine learning"
    },
    {
      "metadata": {
        "trusted": true
      },
      "cell_type": "code",
      "source": "from sklearn.model_selection import train_test_split",
      "execution_count": 44,
      "outputs": []
    },
    {
      "metadata": {
        "trusted": true
      },
      "cell_type": "code",
      "source": "scaled_data=scaled_data.reset_index()",
      "execution_count": 45,
      "outputs": []
    },
    {
      "metadata": {
        "trusted": true
      },
      "cell_type": "code",
      "source": "categorical_data=categorical_data.reset_index()",
      "execution_count": 46,
      "outputs": []
    },
    {
      "metadata": {
        "trusted": true
      },
      "cell_type": "code",
      "source": "final_df=pd.concat([scaled_data,categorical_data],axis=1)\nfinal_df.head()",
      "execution_count": 47,
      "outputs": [
        {
          "output_type": "execute_result",
          "execution_count": 47,
          "data": {
            "text/html": "<div>\n<style scoped>\n    .dataframe tbody tr th:only-of-type {\n        vertical-align: middle;\n    }\n\n    .dataframe tbody tr th {\n        vertical-align: top;\n    }\n\n    .dataframe thead th {\n        text-align: right;\n    }\n</style>\n<table border=\"1\" class=\"dataframe\">\n  <thead>\n    <tr style=\"text-align: right;\">\n      <th></th>\n      <th>index</th>\n      <th>battery_power</th>\n      <th>clock_speed</th>\n      <th>fc_megapixel</th>\n      <th>int_memory</th>\n      <th>m_depth</th>\n      <th>mobile_wt</th>\n      <th>n_cores</th>\n      <th>pc_megepixel</th>\n      <th>px_height</th>\n      <th>...</th>\n      <th>sc_w</th>\n      <th>talk_time</th>\n      <th>index</th>\n      <th>bluetooth</th>\n      <th>dual_sim</th>\n      <th>four_g</th>\n      <th>three_g</th>\n      <th>touch_screen</th>\n      <th>wifi</th>\n      <th>price_range</th>\n    </tr>\n  </thead>\n  <tbody>\n    <tr>\n      <th>0</th>\n      <td>0</td>\n      <td>-0.902597</td>\n      <td>0.830779</td>\n      <td>-0.762495</td>\n      <td>-1.380644</td>\n      <td>0.340740</td>\n      <td>1.349249</td>\n      <td>-1.101971</td>\n      <td>-1.305750</td>\n      <td>-1.408949</td>\n      <td>...</td>\n      <td>0.283103</td>\n      <td>1.462493</td>\n      <td>0</td>\n      <td>0</td>\n      <td>0</td>\n      <td>0</td>\n      <td>0</td>\n      <td>0</td>\n      <td>1</td>\n      <td>1</td>\n    </tr>\n    <tr>\n      <th>1</th>\n      <td>1</td>\n      <td>-0.495139</td>\n      <td>-1.253064</td>\n      <td>-0.992890</td>\n      <td>1.155024</td>\n      <td>0.687548</td>\n      <td>-0.120059</td>\n      <td>-0.664768</td>\n      <td>-0.645989</td>\n      <td>0.585778</td>\n      <td>...</td>\n      <td>-0.635317</td>\n      <td>-0.734267</td>\n      <td>1</td>\n      <td>1</td>\n      <td>1</td>\n      <td>1</td>\n      <td>1</td>\n      <td>1</td>\n      <td>0</td>\n      <td>2</td>\n    </tr>\n    <tr>\n      <th>2</th>\n      <td>2</td>\n      <td>-1.537686</td>\n      <td>-1.253064</td>\n      <td>-0.532099</td>\n      <td>0.493546</td>\n      <td>1.381165</td>\n      <td>0.134244</td>\n      <td>0.209639</td>\n      <td>-0.645989</td>\n      <td>1.392684</td>\n      <td>...</td>\n      <td>-0.864922</td>\n      <td>-0.368140</td>\n      <td>2</td>\n      <td>1</td>\n      <td>1</td>\n      <td>1</td>\n      <td>1</td>\n      <td>1</td>\n      <td>0</td>\n      <td>2</td>\n    </tr>\n    <tr>\n      <th>3</th>\n      <td>3</td>\n      <td>-1.419319</td>\n      <td>1.198517</td>\n      <td>-0.992890</td>\n      <td>-1.215274</td>\n      <td>1.034357</td>\n      <td>-0.261339</td>\n      <td>0.646842</td>\n      <td>-0.151168</td>\n      <td>1.286750</td>\n      <td>...</td>\n      <td>0.512708</td>\n      <td>-0.002014</td>\n      <td>3</td>\n      <td>1</td>\n      <td>0</td>\n      <td>0</td>\n      <td>1</td>\n      <td>0</td>\n      <td>0</td>\n      <td>2</td>\n    </tr>\n    <tr>\n      <th>4</th>\n      <td>4</td>\n      <td>1.325906</td>\n      <td>-0.395011</td>\n      <td>2.002254</td>\n      <td>0.658915</td>\n      <td>0.340740</td>\n      <td>0.021220</td>\n      <td>-1.101971</td>\n      <td>0.673534</td>\n      <td>1.268718</td>\n      <td>...</td>\n      <td>-0.864922</td>\n      <td>0.730240</td>\n      <td>4</td>\n      <td>1</td>\n      <td>0</td>\n      <td>1</td>\n      <td>1</td>\n      <td>1</td>\n      <td>0</td>\n      <td>1</td>\n    </tr>\n  </tbody>\n</table>\n<p>5 rows × 23 columns</p>\n</div>",
            "text/plain": "   index  battery_power  clock_speed  fc_megapixel  int_memory   m_depth  \\\n0      0      -0.902597     0.830779     -0.762495   -1.380644  0.340740   \n1      1      -0.495139    -1.253064     -0.992890    1.155024  0.687548   \n2      2      -1.537686    -1.253064     -0.532099    0.493546  1.381165   \n3      3      -1.419319     1.198517     -0.992890   -1.215274  1.034357   \n4      4       1.325906    -0.395011      2.002254    0.658915  0.340740   \n\n   mobile_wt   n_cores  pc_megepixel  px_height     ...           sc_w  \\\n0   1.349249 -1.101971     -1.305750  -1.408949     ...       0.283103   \n1  -0.120059 -0.664768     -0.645989   0.585778     ...      -0.635317   \n2   0.134244  0.209639     -0.645989   1.392684     ...      -0.864922   \n3  -0.261339  0.646842     -0.151168   1.286750     ...       0.512708   \n4   0.021220 -1.101971      0.673534   1.268718     ...      -0.864922   \n\n   talk_time  index  bluetooth  dual_sim  four_g  three_g  touch_screen  wifi  \\\n0   1.462493      0          0         0       0        0             0     1   \n1  -0.734267      1          1         1       1        1             1     0   \n2  -0.368140      2          1         1       1        1             1     0   \n3  -0.002014      3          1         0       0        1             0     0   \n4   0.730240      4          1         0       1        1             1     0   \n\n   price_range  \n0            1  \n1            2  \n2            2  \n3            2  \n4            1  \n\n[5 rows x 23 columns]"
          },
          "metadata": {}
        }
      ]
    },
    {
      "metadata": {
        "trusted": true
      },
      "cell_type": "code",
      "source": "final_df.isnull().sum()",
      "execution_count": 48,
      "outputs": [
        {
          "output_type": "execute_result",
          "execution_count": 48,
          "data": {
            "text/plain": "index            0\nbattery_power    0\nclock_speed      0\nfc_megapixel     0\nint_memory       0\nm_depth          0\nmobile_wt        0\nn_cores          0\npc_megepixel     0\npx_height        0\npx_width         0\nram              0\nsc_h             0\nsc_w             0\ntalk_time        0\nindex            0\nbluetooth        0\ndual_sim         0\nfour_g           0\nthree_g          0\ntouch_screen     0\nwifi             0\nprice_range      0\ndtype: int64"
          },
          "metadata": {}
        }
      ]
    },
    {
      "metadata": {
        "trusted": true
      },
      "cell_type": "code",
      "source": "x=final_df.drop('price_range',axis=1)\ny=final_df['price_range']",
      "execution_count": 49,
      "outputs": []
    },
    {
      "metadata": {
        "trusted": true
      },
      "cell_type": "code",
      "source": "x_train, x_test, y_train, y_test=train_test_split(x,y,\n                                                 test_size=0.2,\n                                                 random_state=101)",
      "execution_count": 50,
      "outputs": []
    },
    {
      "metadata": {
        "trusted": true
      },
      "cell_type": "code",
      "source": "x_train.shape,x_test.shape",
      "execution_count": 51,
      "outputs": [
        {
          "output_type": "execute_result",
          "execution_count": 51,
          "data": {
            "text/plain": "((1600, 22), (400, 22))"
          },
          "metadata": {}
        }
      ]
    },
    {
      "metadata": {
        "trusted": true
      },
      "cell_type": "code",
      "source": "from sklearn.linear_model import LogisticRegression",
      "execution_count": 52,
      "outputs": []
    },
    {
      "metadata": {
        "trusted": true
      },
      "cell_type": "code",
      "source": "logistic_model=LogisticRegression(solver='lbfgs',\n                                 multi_class='multinomial',\n                                 max_iter=10000)",
      "execution_count": 54,
      "outputs": []
    },
    {
      "metadata": {
        "trusted": true
      },
      "cell_type": "code",
      "source": "logistic_model.fit(x_train,y_train)",
      "execution_count": 55,
      "outputs": [
        {
          "output_type": "execute_result",
          "execution_count": 55,
          "data": {
            "text/plain": "LogisticRegression(C=1.0, class_weight=None, dual=False, fit_intercept=True,\n          intercept_scaling=1, max_iter=10000, multi_class='multinomial',\n          n_jobs=None, penalty='l2', random_state=None, solver='lbfgs',\n          tol=0.0001, verbose=0, warm_start=False)"
          },
          "metadata": {}
        }
      ]
    },
    {
      "metadata": {
        "trusted": true
      },
      "cell_type": "code",
      "source": "logistic_model.score(x_test,y_test)",
      "execution_count": 56,
      "outputs": [
        {
          "output_type": "execute_result",
          "execution_count": 56,
          "data": {
            "text/plain": "0.9325"
          },
          "metadata": {}
        }
      ]
    },
    {
      "metadata": {
        "trusted": true
      },
      "cell_type": "code",
      "source": "",
      "execution_count": null,
      "outputs": []
    }
  ],
  "metadata": {
    "kernelspec": {
      "name": "python36",
      "display_name": "Python 3.6",
      "language": "python"
    },
    "language_info": {
      "mimetype": "text/x-python",
      "nbconvert_exporter": "python",
      "name": "python",
      "pygments_lexer": "ipython3",
      "version": "3.6.6",
      "file_extension": ".py",
      "codemirror_mode": {
        "version": 3,
        "name": "ipython"
      }
    }
  },
  "nbformat": 4,
  "nbformat_minor": 2
}